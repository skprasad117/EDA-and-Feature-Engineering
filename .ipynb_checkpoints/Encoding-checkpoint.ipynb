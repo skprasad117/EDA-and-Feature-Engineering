{
 "cells": [
  {
   "cell_type": "markdown",
   "id": "1e113299",
   "metadata": {},
   "source": [
    "#### Process of converting categorical data into numerical data that can be easily processed by Machine Learning"
   ]
  },
  {
   "cell_type": "markdown",
   "id": "ba475f69",
   "metadata": {},
   "source": [
    "### Types of Categorical Variables: \n",
    "\n",
    "    1. Nominal \n",
    "\n",
    "    2. Ordinal (Ordered) \n",
    "\n",
    "### Methods of Encoding "
   ]
  },
  {
   "cell_type": "markdown",
   "id": "01a0df10",
   "metadata": {},
   "source": [
    "<style>\n",
    "    table {\n",
    "        border-collapse: collapse;\n",
    "        width: 100%;\n",
    "        max-width: 800px;\n",
    "        margin: 0 auto;\n",
    "    }\n",
    "\n",
    "    th, td {\n",
    "        padding: 10px;\n",
    "        text-align: left;\n",
    "        vertical-align: top;\n",
    "        border: 1px solid #ddd;\n",
    "    }\n",
    "\n",
    "    th {\n",
    "        background-color: #f2f2f2;\n",
    "    }\n",
    "\n",
    "    .number-column {\n",
    "        width: 30px;\n",
    "        text-align: right;\n",
    "        padding-right: 10px;\n",
    "    }\n",
    "\n",
    "    @media (max-width: 767px) {\n",
    "        table {\n",
    "            display: block;\n",
    "        }\n",
    "        th, td {\n",
    "            display: block;\n",
    "            width: 100%;\n",
    "        }\n",
    "        .number-column {\n",
    "            width: 100%;\n",
    "            text-align: left;\n",
    "            padding-right: 0;\n",
    "        }\n",
    "    }\n",
    "</style>\n",
    "\n",
    "<h1>List of Encoding Techniques</h1>\n",
    "<table>\n",
    "    <tr>\n",
    "        <th class=\"number-column\">1.</th>\n",
    "        <td style=\"text-align:left;color:green;\">One Hot Encoding</td>\n",
    "        <th class=\"number-column\">9.</th>\n",
    "        <td style=\"text-align:left;\">Frequency Encoding</td>\n",
    "    </tr>\n",
    "    <tr>\n",
    "        <th class=\"number-column\">2.</th>\n",
    "        <td style=\"text-align:left;color:green;\">Target Guided Ordinal Encoding</td>\n",
    "        <th class=\"number-column\">10.</th>\n",
    "        <td style=\"text-align:left;\">Backward Difference Encoding</td>\n",
    "    </tr>\n",
    "    <tr>\n",
    "        <th class=\"number-column\">3.</th>\n",
    "        <td style=\"text-align:left;\">Label Encoding</td>\n",
    "        <th class=\"number-column\">11.</th>\n",
    "        <td style=\"text-align:left;\">Mean Encoding</td>\n",
    "    </tr>\n",
    "    <tr>\n",
    "        <th class=\"number-column\">4.</th>\n",
    "        <td style=\"text-align:left;\">Probability Ratio Encoding</td>\n",
    "        <th class=\"number-column\">12.</th>\n",
    "        <td style=\"text-align:left;\">Weight of Evidence Encoding</td>\n",
    "    </tr>\n",
    "    <tr>\n",
    "        <th class=\"number-column\">5.</th>\n",
    "        <td style=\"text-align:left;\">Ordinal Encoding</td>\n",
    "        <th class=\"number-column\">13.</th>\n",
    "        <td style=\"text-align:left;\">Leave One Out Encoding</td>\n",
    "    </tr>\n",
    "    <tr>\n",
    "        <th class=\"number-column\">6.</th>\n",
    "        <td style=\"text-align:left;\">Helmert Encoding</td>\n",
    "        <th class=\"number-column\">14.</th>\n",
    "        <td style=\"text-align:left;\">James-Stein Encoding</td>\n",
    "    </tr>\n",
    "    <tr>\n",
    "        <th class=\"number-column\">7.</th>\n",
    "        <td style=\"text-align:left;\">Hashing Encoding</td>\n",
    "        <th class=\"number-column\">15.</th>\n",
    "        <td style=\"text-align:left;\">M-estimator Encoding (updated)</td>\n",
    "    </tr>\n",
    "    <tr>\n",
    "        <th class=\"number-column\">8.</th>\n",
    "        <td style=\"text-align:left;\">Binary Encoding</td>\n",
    "        <th class=\"number-column\">16.</th>\n",
    "        <td style=\"text-align:left;\">Thermometer Encoder (updated)</td>\n",
    "    </tr>\n",
    "</table>\n"
   ]
  },
  {
   "cell_type": "code",
   "execution_count": null,
   "id": "ff900210",
   "metadata": {},
   "outputs": [],
   "source": [
    "# https://www.kaggle.com/code/aditya1702/mercedes-benz-data-exploration/input"
   ]
  },
  {
   "cell_type": "code",
   "execution_count": null,
   "id": "87f1fee9",
   "metadata": {},
   "outputs": [],
   "source": [
    "# checking number of unique categories in each column\n",
    "for col in data.columns:\n",
    "    print(col,\":\", len(data[col].unique()),' labels')"
   ]
  },
  {
   "cell_type": "code",
   "execution_count": null,
   "id": "ce6d37e1",
   "metadata": {},
   "outputs": [],
   "source": []
  },
  {
   "cell_type": "markdown",
   "id": "aa595b43",
   "metadata": {},
   "source": [
    "## 1. One Hot Encoding"
   ]
  },
  {
   "cell_type": "code",
   "execution_count": null,
   "id": "d6f97f58",
   "metadata": {},
   "outputs": [],
   "source": [
    "# using pandas\n",
    "df = pd.get_dummies(data,drop_first=True)\n",
    "df.shape"
   ]
  },
  {
   "cell_type": "code",
   "execution_count": null,
   "id": "ece52034",
   "metadata": {},
   "outputs": [],
   "source": [
    "df.head(2)"
   ]
  },
  {
   "cell_type": "code",
   "execution_count": null,
   "id": "7aecc763",
   "metadata": {},
   "outputs": [],
   "source": [
    "# using sklearn\n",
    "from sklearn.preprocessing import OneHotEncoder\n",
    "ohc = OneHotEncoder()\n"
   ]
  },
  {
   "cell_type": "code",
   "execution_count": null,
   "id": "386958ed",
   "metadata": {},
   "outputs": [],
   "source": []
  },
  {
   "cell_type": "markdown",
   "id": "1167249c",
   "metadata": {},
   "source": [
    "## Note:\n",
    "in case of larger number of categories like 500 the number of feature will increase and will result in Curese of Dimensionality and may impact accuracy level"
   ]
  },
  {
   "cell_type": "markdown",
   "id": "107bea36",
   "metadata": {},
   "source": [
    " ### From KDD cup orange challenge problem technique\n",
    "    took 10 most frequent categoreis from each features and left the remaning feature and performed one hot encoding on selected 10 categories"
   ]
  },
  {
   "cell_type": "code",
   "execution_count": null,
   "id": "0f213ed4",
   "metadata": {},
   "outputs": [],
   "source": [
    "# taking the top 10 most frequent categories for the variable X2\n",
    "data.X2.value_counts().sort_values(ascending=False).head(20)"
   ]
  },
  {
   "cell_type": "code",
   "execution_count": null,
   "id": "3d050e15",
   "metadata": {},
   "outputs": [],
   "source": [
    "top_10 = [x for x in data.X2.value_counts().sort_values(ascending=False).head(10).index]\n",
    "top_10"
   ]
  },
  {
   "cell_type": "code",
   "execution_count": null,
   "id": "2d0bccbb",
   "metadata": {},
   "outputs": [],
   "source": [
    "# making the 10 binary variables \n",
    "for label in top_10:\n",
    "    data[label] = np.where(data['X2']==label,1,0)\n",
    "data[['X2']+top_10].head(10)"
   ]
  },
  {
   "cell_type": "markdown",
   "id": "384d9f5a",
   "metadata": {},
   "source": [
    "## 2. Target Guided Ordinal Encoding"
   ]
  },
  {
   "cell_type": "code",
   "execution_count": 18,
   "id": "a20875a9",
   "metadata": {},
   "outputs": [
    {
     "name": "stdout",
     "output_type": "stream",
     "text": [
      "   color  price  color_encoded\n",
      "0    red    100              3\n",
      "1   blue    150              1\n",
      "2  green    120              2\n",
      "3    red     80              3\n",
      "4  green     90              2\n",
      "5   blue    140              1\n"
     ]
    }
   ],
   "source": [
    "import pandas as pd\n",
    "\n",
    "# Create sample data\n",
    "data = {'color': ['red', 'blue', 'green', 'red', 'green', 'blue'],\n",
    "        'price': [100, 150, 120, 80, 90, 140]}\n",
    "df = pd.DataFrame(data)\n",
    "\n",
    "# Calculate mean price for each color\n",
    "means = df.groupby('color')['price'].mean()\n",
    "\n",
    "# Create mapping dictionary\n",
    "mapping = {}\n",
    "for i, val in enumerate(sorted(df['color'].unique(),reverse = False)):\n",
    "    mapping[val] = i+1\n",
    "\n",
    "# Apply mapping to the 'color' column\n",
    "df['color_encoded'] = df['color'].map(mapping)\n",
    "\n",
    "# Print the results\n",
    "print(df)"
   ]
  },
  {
   "cell_type": "markdown",
   "id": "2c8fbf47",
   "metadata": {},
   "source": [
    "## 3. Mean Encoding"
   ]
  },
  {
   "cell_type": "code",
   "execution_count": null,
   "id": "3f102023",
   "metadata": {},
   "outputs": [],
   "source": []
  },
  {
   "cell_type": "code",
   "execution_count": null,
   "id": "42fc48e6",
   "metadata": {},
   "outputs": [],
   "source": []
  },
  {
   "cell_type": "code",
   "execution_count": null,
   "id": "c233f392",
   "metadata": {},
   "outputs": [],
   "source": []
  },
  {
   "cell_type": "code",
   "execution_count": null,
   "id": "7432d191",
   "metadata": {},
   "outputs": [],
   "source": []
  },
  {
   "cell_type": "code",
   "execution_count": null,
   "id": "20e94215",
   "metadata": {},
   "outputs": [],
   "source": []
  }
 ],
 "metadata": {
  "kernelspec": {
   "display_name": "Python 3 (ipykernel)",
   "language": "python",
   "name": "python3"
  },
  "language_info": {
   "codemirror_mode": {
    "name": "ipython",
    "version": 3
   },
   "file_extension": ".py",
   "mimetype": "text/x-python",
   "name": "python",
   "nbconvert_exporter": "python",
   "pygments_lexer": "ipython3",
   "version": "3.9.13"
  }
 },
 "nbformat": 4,
 "nbformat_minor": 5
}
