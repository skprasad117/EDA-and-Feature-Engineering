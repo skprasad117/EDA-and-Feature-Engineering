{
 "cells": [
  {
   "cell_type": "markdown",
   "id": "1e113299",
   "metadata": {},
   "source": [
    "#### Process of converting categorical data into numerical data that can be easily processed by Machine Learning"
   ]
  },
  {
   "cell_type": "markdown",
   "id": "ba475f69",
   "metadata": {},
   "source": [
    "### Types of Categorical Variables: \n",
    "\n",
    "    1. Nominal \n",
    "\n",
    "    2. Ordinal (Ordered) \n",
    "\n",
    "### Methods of Encoding \n",
    "<table>\n",
    "    <tr>\n",
    "    <td>1. One Hot Encoding</td> \n",
    "    <td>2. Label Encoding</td> \n",
    "    <td>3. Probability Ratio Encoding</td> </tr>\n",
    "    <tr>\n",
    "    <td>4. Ordinal Encoding</td> \n",
    "    <td>5. Helmert Encoding</td>\n",
    "    <td>6. Hashing Encoding </td></tr>\n",
    "    <tr>\n",
    "    <td>7. Binary Encoding</td> \n",
    "    <td>8. Frequency Encoding</td>\n",
    "    <td>9. Backward Difference Encoding</td></tr>\n",
    "    <tr>\n",
    "    <td>10. Mean Encoding</td> \n",
    "    <td>11. Weight of Evidence Encoding</td>\n",
    "    <td>12. Leave One Out Encoding</td> </tr>\n",
    "    <tr>\n",
    "    <td>13. James-Stein Encoding</td> \n",
    "    <td>14. M-estimator Encoding (updated)</td> \n",
    "    <td>15. Thermometer Encoder (updated)</td></tr>\n",
    "</table>"
   ]
  },
  {
   "cell_type": "code",
   "execution_count": 5,
   "id": "5faea9f1",
   "metadata": {},
   "outputs": [
    {
     "data": {
      "text/html": [
       "<div>\n",
       "<style scoped>\n",
       "    .dataframe tbody tr th:only-of-type {\n",
       "        vertical-align: middle;\n",
       "    }\n",
       "\n",
       "    .dataframe tbody tr th {\n",
       "        vertical-align: top;\n",
       "    }\n",
       "\n",
       "    .dataframe thead th {\n",
       "        text-align: right;\n",
       "    }\n",
       "</style>\n",
       "<table border=\"1\" class=\"dataframe\">\n",
       "  <thead>\n",
       "    <tr style=\"text-align: right;\">\n",
       "      <th></th>\n",
       "      <th>X1</th>\n",
       "      <th>X2</th>\n",
       "      <th>X3</th>\n",
       "      <th>X4</th>\n",
       "      <th>X5</th>\n",
       "      <th>X6</th>\n",
       "    </tr>\n",
       "  </thead>\n",
       "  <tbody>\n",
       "    <tr>\n",
       "      <th>0</th>\n",
       "      <td>v</td>\n",
       "      <td>n</td>\n",
       "      <td>f</td>\n",
       "      <td>d</td>\n",
       "      <td>t</td>\n",
       "      <td>a</td>\n",
       "    </tr>\n",
       "    <tr>\n",
       "      <th>1</th>\n",
       "      <td>b</td>\n",
       "      <td>ai</td>\n",
       "      <td>a</td>\n",
       "      <td>d</td>\n",
       "      <td>b</td>\n",
       "      <td>g</td>\n",
       "    </tr>\n",
       "    <tr>\n",
       "      <th>2</th>\n",
       "      <td>v</td>\n",
       "      <td>as</td>\n",
       "      <td>f</td>\n",
       "      <td>d</td>\n",
       "      <td>a</td>\n",
       "      <td>j</td>\n",
       "    </tr>\n",
       "  </tbody>\n",
       "</table>\n",
       "</div>"
      ],
      "text/plain": [
       "  X1  X2 X3 X4 X5 X6\n",
       "0  v   n  f  d  t  a\n",
       "1  b  ai  a  d  b  g\n",
       "2  v  as  f  d  a  j"
      ]
     },
     "execution_count": 5,
     "metadata": {},
     "output_type": "execute_result"
    }
   ],
   "source": [
    "# https://www.kaggle.com/code/aditya1702/mercedes-benz-data-exploration/input\n",
    "import pandas as pd\n",
    "import numpy as np\n",
    "data = pd.read_csv('Dataset/benz.csv',usecols=['X1','X2','X3','X4','X5','X6'])\n",
    "data.head(3)"
   ]
  },
  {
   "cell_type": "code",
   "execution_count": 6,
   "id": "87f1fee9",
   "metadata": {},
   "outputs": [
    {
     "name": "stdout",
     "output_type": "stream",
     "text": [
      "X1 : 27  labels\n",
      "X2 : 45  labels\n",
      "X3 : 7  labels\n",
      "X4 : 4  labels\n",
      "X5 : 32  labels\n",
      "X6 : 12  labels\n"
     ]
    }
   ],
   "source": [
    "# checking number of unique categories in each column\n",
    "for col in data.columns:\n",
    "    print(col,\":\", len(data[col].unique()),' labels')"
   ]
  },
  {
   "cell_type": "code",
   "execution_count": null,
   "id": "ce6d37e1",
   "metadata": {},
   "outputs": [],
   "source": []
  },
  {
   "cell_type": "markdown",
   "id": "aa595b43",
   "metadata": {},
   "source": [
    "## 1. One Hot Encoding"
   ]
  },
  {
   "cell_type": "code",
   "execution_count": 8,
   "id": "d6f97f58",
   "metadata": {},
   "outputs": [
    {
     "data": {
      "text/plain": [
       "(4209, 121)"
      ]
     },
     "execution_count": 8,
     "metadata": {},
     "output_type": "execute_result"
    }
   ],
   "source": [
    "# using pandas\n",
    "df = pd.get_dummies(data,drop_first=True)\n",
    "df.shape"
   ]
  },
  {
   "cell_type": "code",
   "execution_count": 14,
   "id": "ece52034",
   "metadata": {},
   "outputs": [
    {
     "data": {
      "text/html": [
       "<div>\n",
       "<style scoped>\n",
       "    .dataframe tbody tr th:only-of-type {\n",
       "        vertical-align: middle;\n",
       "    }\n",
       "\n",
       "    .dataframe tbody tr th {\n",
       "        vertical-align: top;\n",
       "    }\n",
       "\n",
       "    .dataframe thead th {\n",
       "        text-align: right;\n",
       "    }\n",
       "</style>\n",
       "<table border=\"1\" class=\"dataframe\">\n",
       "  <thead>\n",
       "    <tr style=\"text-align: right;\">\n",
       "      <th></th>\n",
       "      <th>X1_aa</th>\n",
       "      <th>X1_ab</th>\n",
       "      <th>X1_b</th>\n",
       "      <th>X1_c</th>\n",
       "      <th>X1_d</th>\n",
       "      <th>X1_e</th>\n",
       "      <th>X1_f</th>\n",
       "      <th>X1_g</th>\n",
       "      <th>X1_h</th>\n",
       "      <th>X1_i</th>\n",
       "      <th>...</th>\n",
       "      <th>X6_c</th>\n",
       "      <th>X6_d</th>\n",
       "      <th>X6_e</th>\n",
       "      <th>X6_f</th>\n",
       "      <th>X6_g</th>\n",
       "      <th>X6_h</th>\n",
       "      <th>X6_i</th>\n",
       "      <th>X6_j</th>\n",
       "      <th>X6_k</th>\n",
       "      <th>X6_l</th>\n",
       "    </tr>\n",
       "  </thead>\n",
       "  <tbody>\n",
       "    <tr>\n",
       "      <th>0</th>\n",
       "      <td>0</td>\n",
       "      <td>0</td>\n",
       "      <td>0</td>\n",
       "      <td>0</td>\n",
       "      <td>0</td>\n",
       "      <td>0</td>\n",
       "      <td>0</td>\n",
       "      <td>0</td>\n",
       "      <td>0</td>\n",
       "      <td>0</td>\n",
       "      <td>...</td>\n",
       "      <td>0</td>\n",
       "      <td>0</td>\n",
       "      <td>0</td>\n",
       "      <td>0</td>\n",
       "      <td>0</td>\n",
       "      <td>0</td>\n",
       "      <td>0</td>\n",
       "      <td>0</td>\n",
       "      <td>0</td>\n",
       "      <td>0</td>\n",
       "    </tr>\n",
       "    <tr>\n",
       "      <th>1</th>\n",
       "      <td>0</td>\n",
       "      <td>0</td>\n",
       "      <td>1</td>\n",
       "      <td>0</td>\n",
       "      <td>0</td>\n",
       "      <td>0</td>\n",
       "      <td>0</td>\n",
       "      <td>0</td>\n",
       "      <td>0</td>\n",
       "      <td>0</td>\n",
       "      <td>...</td>\n",
       "      <td>0</td>\n",
       "      <td>0</td>\n",
       "      <td>0</td>\n",
       "      <td>0</td>\n",
       "      <td>1</td>\n",
       "      <td>0</td>\n",
       "      <td>0</td>\n",
       "      <td>0</td>\n",
       "      <td>0</td>\n",
       "      <td>0</td>\n",
       "    </tr>\n",
       "  </tbody>\n",
       "</table>\n",
       "<p>2 rows × 121 columns</p>\n",
       "</div>"
      ],
      "text/plain": [
       "   X1_aa  X1_ab  X1_b  X1_c  X1_d  X1_e  X1_f  X1_g  X1_h  X1_i  ...  X6_c  \\\n",
       "0      0      0     0     0     0     0     0     0     0     0  ...     0   \n",
       "1      0      0     1     0     0     0     0     0     0     0  ...     0   \n",
       "\n",
       "   X6_d  X6_e  X6_f  X6_g  X6_h  X6_i  X6_j  X6_k  X6_l  \n",
       "0     0     0     0     0     0     0     0     0     0  \n",
       "1     0     0     0     1     0     0     0     0     0  \n",
       "\n",
       "[2 rows x 121 columns]"
      ]
     },
     "execution_count": 14,
     "metadata": {},
     "output_type": "execute_result"
    }
   ],
   "source": [
    "df.head(2)"
   ]
  },
  {
   "cell_type": "code",
   "execution_count": 24,
   "id": "7aecc763",
   "metadata": {},
   "outputs": [],
   "source": [
    "# using sklearn\n",
    "from sklearn.preprocessing import OneHotEncoder\n",
    "ohc = OneHotEncoder()\n"
   ]
  },
  {
   "cell_type": "code",
   "execution_count": null,
   "id": "386958ed",
   "metadata": {},
   "outputs": [],
   "source": []
  },
  {
   "cell_type": "markdown",
   "id": "1167249c",
   "metadata": {},
   "source": [
    "## Note:\n",
    "in case of larger number of categories like 500 the number of feature will increase and will result in Curese of Dimensionality and may impact accuracy level"
   ]
  },
  {
   "cell_type": "markdown",
   "id": "107bea36",
   "metadata": {},
   "source": [
    " ### From KDD cup orange challenge problem technique\n",
    "    took 10 most frequent categoreis from each features and left the remaning feature and performed one hot encoding on selected 10 categories"
   ]
  },
  {
   "cell_type": "code",
   "execution_count": null,
   "id": "0f213ed4",
   "metadata": {},
   "outputs": [],
   "source": []
  }
 ],
 "metadata": {
  "kernelspec": {
   "display_name": "Python 3 (ipykernel)",
   "language": "python",
   "name": "python3"
  },
  "language_info": {
   "codemirror_mode": {
    "name": "ipython",
    "version": 3
   },
   "file_extension": ".py",
   "mimetype": "text/x-python",
   "name": "python",
   "nbconvert_exporter": "python",
   "pygments_lexer": "ipython3",
   "version": "3.9.13"
  }
 },
 "nbformat": 4,
 "nbformat_minor": 5
}
